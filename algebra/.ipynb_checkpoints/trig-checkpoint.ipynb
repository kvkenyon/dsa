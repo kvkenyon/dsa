{
 "cells": [
  {
   "cell_type": "code",
   "execution_count": 1,
   "id": "d819a848-0887-465c-bc2a-82dc6d2b3bad",
   "metadata": {},
   "outputs": [],
   "source": [
    "import math"
   ]
  },
  {
   "cell_type": "code",
   "execution_count": 2,
   "id": "c446e9fc-1e27-42e4-93cd-90a461d49d7c",
   "metadata": {},
   "outputs": [
    {
     "data": {
      "text/plain": [
       "3.141592653589793"
      ]
     },
     "execution_count": 2,
     "metadata": {},
     "output_type": "execute_result"
    }
   ],
   "source": [
    "math.pi"
   ]
  },
  {
   "cell_type": "code",
   "execution_count": 4,
   "id": "f6ce6d18-beb0-41c5-9683-0e29fee4c3e6",
   "metadata": {},
   "outputs": [
    {
     "data": {
      "text/plain": [
       "\u001b[0;31mSignature:\u001b[0m \u001b[0mmath\u001b[0m\u001b[0;34m.\u001b[0m\u001b[0mdegrees\u001b[0m\u001b[0;34m(\u001b[0m\u001b[0mx\u001b[0m\u001b[0;34m,\u001b[0m \u001b[0;34m/\u001b[0m\u001b[0;34m)\u001b[0m\u001b[0;34m\u001b[0m\u001b[0;34m\u001b[0m\u001b[0m\n",
       "\u001b[0;31mDocstring:\u001b[0m Convert angle x from radians to degrees.\n",
       "\u001b[0;31mType:\u001b[0m      builtin_function_or_method"
      ]
     },
     "metadata": {},
     "output_type": "display_data"
    }
   ],
   "source": [
    "math.radians??\n",
    "math.degrees??"
   ]
  },
  {
   "cell_type": "code",
   "execution_count": 9,
   "id": "a5ddb8a5-f5ed-46af-8105-275baa47d18e",
   "metadata": {},
   "outputs": [],
   "source": [
    "r = 1\n",
    "theta = (5*math.pi)/3\n",
    "# sectore area = 1/2r**2 * theta\n",
    "area = 1/2 * r**2 * theta"
   ]
  },
  {
   "cell_type": "code",
   "execution_count": 10,
   "id": "08f64256-c418-41d4-af0e-19c86337c9f8",
   "metadata": {},
   "outputs": [
    {
     "data": {
      "text/plain": [
       "2.6179938779914944"
      ]
     },
     "execution_count": 10,
     "metadata": {},
     "output_type": "execute_result"
    }
   ],
   "source": [
    "area"
   ]
  },
  {
   "cell_type": "markdown",
   "id": "1c276287-77f8-4b7e-a70d-9b234670461b",
   "metadata": {},
   "source": [
    "# Sine, Cosine, and Tangent "
   ]
  },
  {
   "cell_type": "markdown",
   "id": "f3eb8b9a-064a-43d7-b805-69c2a40263af",
   "metadata": {},
   "source": [
    "A right angled triangle has one angle that is 90 degrees."
   ]
  },
  {
   "cell_type": "code",
   "execution_count": 11,
   "id": "87979742-9b4a-42b5-a228-f204e963d6d2",
   "metadata": {},
   "outputs": [
    {
     "data": {
      "text/plain": [
       "0.5235987755982989"
      ]
     },
     "execution_count": 11,
     "metadata": {},
     "output_type": "execute_result"
    }
   ],
   "source": [
    "theta = math.pi/3 \n",
    "right_angle = math.pi/2 \n",
    "\n",
    "third_angle = right_angle - theta\n",
    "\n",
    "third_angle"
   ]
  },
  {
   "cell_type": "code",
   "execution_count": 32,
   "id": "f033ea22-4ead-4a40-9be8-e2aa47e5805d",
   "metadata": {},
   "outputs": [
    {
     "name": "stdout",
     "output_type": "stream",
     "text": [
      "(a) hyp=17.0\n",
      "(b) sin(theta)=15/17.0=0.8824\n",
      "    cos(theta)=8/17.0=0.4706\n",
      "    tan(theta)=15/8=1.8750\n"
     ]
    }
   ],
   "source": [
    "# Activity 3\n",
    "opp = 15\n",
    "adj = 8\n",
    "hyp = math.sqrt(a **2 + b**2)\n",
    "# (a) \n",
    "print(f'(a) hyp={hyp}')\n",
    "#\n",
    "print(f'(b) sin(theta)={opp}/{hyp}={(opp/hyp):0.4f}')\n",
    "print(f'    cos(theta)={adj}/{hyp}={(adj/hyp):0.4f}')\n",
    "print(f'    tan(theta)={opp}/{adj}={(opp/adj):0.4f}')"
   ]
  },
  {
   "cell_type": "code",
   "execution_count": 18,
   "id": "28a4a429-9bca-4755-9964-82d4fbc97816",
   "metadata": {},
   "outputs": [],
   "source": [
    "# Activity 4"
   ]
  },
  {
   "cell_type": "code",
   "execution_count": 34,
   "id": "2d77301d-449f-458d-877a-7cacf4a059e1",
   "metadata": {},
   "outputs": [
    {
     "name": "stdout",
     "output_type": "stream",
     "text": [
      "(a) adj=12.0\n",
      "(b) cos(theta)=adj/hyp=12.0/13=0.9230769230769231\n",
      "    tan(theta)=opp/adj=5/12.0=0.4166666666666667\n"
     ]
    }
   ],
   "source": [
    "# sin(theta) = 5/13\n",
    "opp = 5\n",
    "hyp = 13\n",
    "\n",
    "# (a) find adjacent\n",
    "# a**2 + b**2 = c**2\n",
    "adj = math.sqrt(hyp**2 - opp**2)\n",
    "print(f'(a) adj={adj}')\n",
    "\n",
    "# (b) Find cos and tan theta\n",
    "print(f'(b) cos(theta)=adj/hyp={adj}/{hyp}={adj/hyp}')\n",
    "print(f'    tan(theta)=opp/adj={opp}/{adj}={opp/adj}')"
   ]
  },
  {
   "cell_type": "code",
   "execution_count": 38,
   "id": "6b816c94-243d-453c-ba47-477fc573e5d7",
   "metadata": {},
   "outputs": [
    {
     "name": "stdout",
     "output_type": "stream",
     "text": [
      " sin(62)=0.883\n",
      " cos(62)=0.469\n",
      " tan(62)=1.88\n"
     ]
    }
   ],
   "source": [
    "# Activity 5\n",
    "\n",
    "deg = math.radians(62)\n",
    "print(f' sin(62)={math.sin(deg):0.3f}')\n",
    "print(f' cos(62)={math.cos(deg):0.3f}')\n",
    "print(f' tan(62)={math.tan(deg):0.2f}')"
   ]
  },
  {
   "cell_type": "code",
   "execution_count": 53,
   "id": "e8c26f2a-4dac-4ce1-9acc-52765fde9826",
   "metadata": {},
   "outputs": [
    {
     "name": "stdout",
     "output_type": "stream",
     "text": [
      "(a) p=8.7\n",
      "(b) q=4.9\n",
      "(c) r=3.5\n"
     ]
    }
   ],
   "source": [
    "# Activity 6 Finding unknown side lengths\n",
    "# (a)\n",
    "\n",
    "theta = math.radians(35)\n",
    "opp = 5\n",
    "# sin(35) = 5/p; p * sin(35) = 5; p = 5/sin(35)\n",
    "p = opp/math.sin(theta)\n",
    "print(f'(a) p={p:0.1f}')\n",
    "\n",
    "# (b)\n",
    "theta = math.pi/4\n",
    "hyp = 7\n",
    "# cos(pi/4) = q/7; q = 7*cos(pi/4)\n",
    "q = hyp*math.cos(theta)\n",
    "print(f'(b) q={q:0.1f}')\n",
    "\n",
    "# (c)\n",
    "theta = math.pi/6\n",
    "adj = 6\n",
    "# tan(theta) = r/adj \n",
    "r = math.tan(theta) * adj\n",
    "print(f'(c) r={r:0.1f}')"
   ]
  },
  {
   "cell_type": "code",
   "execution_count": 57,
   "id": "4c6433b9-8c74-49b9-a41c-7b0c10bacd9a",
   "metadata": {},
   "outputs": [
    {
     "name": "stdout",
     "output_type": "stream",
     "text": [
      "The width of the river is about 77 meters\n"
     ]
    }
   ],
   "source": [
    "# Activity 7 Estimate the width of a river\n",
    "# w = ?\n",
    "\n",
    "d = 50\n",
    "theta = math.radians(57)\n",
    "# tan(theta) = w/d -> w = d * tan(theta)\n",
    "w = d * math.tan(theta)\n",
    "print(f'The width of the river is about {round(w)} meters')"
   ]
  },
  {
   "cell_type": "code",
   "execution_count": 64,
   "id": "2c6d874d-0641-4077-a455-1bb602f9e877",
   "metadata": {},
   "outputs": [
    {
     "name": "stdout",
     "output_type": "stream",
     "text": [
      "The height of the building is about 308 meters.\n"
     ]
    }
   ],
   "source": [
    "# Activity 8 Height of a building\n",
    "\n",
    "d = 100\n",
    "theta = math.radians(72)\n",
    "# tan(theta) = h/d -> h = d * tan(theta)\n",
    "h = d * math.tan(theta)\n",
    "print(f'The height of the building is about {round(h)} meters.')"
   ]
  },
  {
   "cell_type": "code",
   "execution_count": 72,
   "id": "5f3fa720-cb0e-4ebe-a9dd-3b1d4a0bf6d0",
   "metadata": {},
   "outputs": [
    {
     "name": "stdout",
     "output_type": "stream",
     "text": [
      "(a) theta=49 degrees\n",
      "(b) alpha=32 degrees\n",
      "(c) beta=58 degrees\n"
     ]
    }
   ],
   "source": [
    "# Activity 9\n",
    "theta = round(math.degrees(math.atan(40/35)))\n",
    "print(f'(a) theta={theta} degrees')\n",
    "\n",
    "alpha = round(math.degrees(math.asin(8/15)))\n",
    "print(f'(b) alpha={alpha} degrees')\n",
    "\n",
    "beta = round(math.degrees(math.acos(8/15)))\n",
    "print(f'(c) beta={beta} degrees')"
   ]
  },
  {
   "cell_type": "code",
   "execution_count": 87,
   "id": "d5654f77-b579-4aad-8bcd-c175c0dd29f1",
   "metadata": {},
   "outputs": [
    {
     "name": "stdout",
     "output_type": "stream",
     "text": [
      "Degrees for theta=60\n"
     ]
    },
    {
     "data": {
      "text/plain": [
       "59.99999999999999"
      ]
     },
     "execution_count": 87,
     "metadata": {},
     "output_type": "execute_result"
    }
   ],
   "source": [
    "# Special triangles\n",
    "\n",
    "theta = math.pi/3\n",
    "print(f'Degrees for theta={round(math.degrees(theta))}')\n",
    "hyp = 2\n",
    "adj = 1\n",
    "opp = math.sqrt(3)\n",
    "# sin(30) = opp/2 -> 2 * sin(30) = opp\n",
    "2 * math.sin(math.pi/3), opp\n"
   ]
  },
  {
   "cell_type": "code",
   "execution_count": null,
   "id": "50c6a369-7689-4ee6-9110-7551f3715391",
   "metadata": {},
   "outputs": [],
   "source": []
  },
  {
   "cell_type": "code",
   "execution_count": null,
   "id": "a51e54bf-48b8-4d67-a23b-0c8351951721",
   "metadata": {},
   "outputs": [],
   "source": []
  }
 ],
 "metadata": {
  "kernelspec": {
   "display_name": "Python 3 (ipykernel)",
   "language": "python",
   "name": "python3"
  },
  "language_info": {
   "codemirror_mode": {
    "name": "ipython",
    "version": 3
   },
   "file_extension": ".py",
   "mimetype": "text/x-python",
   "name": "python",
   "nbconvert_exporter": "python",
   "pygments_lexer": "ipython3",
   "version": "3.11.5"
  }
 },
 "nbformat": 4,
 "nbformat_minor": 5
}
